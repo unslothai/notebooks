{
 "cells": [
  {
   "cell_type": "markdown",
   "metadata": {},
   "source": [
    "### News"
   ]
  },
  {
   "cell_type": "markdown",
   "metadata": {},
   "source": [
    "We use unsloth to finetune the glm4-9b-chat-hf model with OpenR1-Math-220k dataset."
   ]
  },
  {
   "cell_type": "markdown",
   "metadata": {},
   "source": [
    "### Installation"
   ]
  },
  {
   "cell_type": "code",
   "execution_count": null,
   "metadata": {},
   "outputs": [],
   "source": [
    "!pip install install unsloth"
   ]
  },
  {
   "cell_type": "markdown",
   "metadata": {},
   "source": [
    "### Unsloth"
   ]
  },
  {
   "cell_type": "code",
   "execution_count": null,
   "metadata": {},
   "outputs": [],
   "source": [
    "from datasets import load_dataset\n",
    "\n",
    "dataset = load_dataset(\"open-r1/OpenR1-Math-220k\")\n",
    "\n",
    "print(dataset)\n",
    "\n",
    "# 查看第一个训练样本\n",
    "sample = dataset['train'][0]\n",
    "print(\"\\n--- Problem ---\")\n",
    "print(sample['problem'])\n",
    "print(\"\\n--- Solution (The Chain-of-Thought) ---\")\n",
    "print(sample['solution'])\n",
    "print(\"\\n--- Answer ---\")\n",
    "print(sample['answer'])\n",
    "\n",
    "def format_function(sample):\n",
    "    \"\"\"\n",
    "    将原始数据样本转换为用于微调的 prompt-completion 对。\n",
    "    \"\"\"\n",
    "    prompt_text = f\"\"\"<|begin_of_text|><|start_header_id|>system<|end_header_id|>\n",
    "You are an expert mathematician. Solve the following problem. Think step by step. End your response with a final answer in the format \\\\boxed{{answer}}.<|eot_id|>\n",
    "<|start_header_id|>user<|eot_id|>\n",
    "{sample['problem']}<|eot_id|>\n",
    "<|start_header_id|>assistant<|eot_id|>\n",
    "\"\"\"\n",
    "    \n",
    "    solution_text = sample['solution'].strip()\n",
    "    final_answer = sample['answer'].strip()\n",
    "    \n",
    "    if f\"\\\\boxed{{{final_answer}}}\" not in solution_text:\n",
    "        completion_text = f\"{solution_text}\\n\\\\boxed{{{final_answer}}}\"\n",
    "    else:\n",
    "        completion_text = solution_text\n",
    "\n",
    "    return {\"prompt\": prompt_text, \"completion\": completion_text}\n",
    "\n",
    "formatted_dataset = dataset.map(format_function)\n",
    "\n",
    "train_data = formatted_dataset['train']\n",
    "\n",
    "train_data.to_json(\"openr1_math_cot_formatted.jsonl\", orient=\"records\", lines=True)"
   ]
  },
  {
   "cell_type": "code",
   "execution_count": null,
   "metadata": {},
   "outputs": [],
   "source": [
    "from unsloth import FastLanguageModel\n",
    "import torch\n",
    "from datasets import load_dataset\n",
    "from transformers import TrainingArguments\n",
    "from trl import SFTTrainer\n",
    "\n",
    "model, tokenizer = FastLanguageModel.from_pretrained(\n",
    "    model_name = \"glm-4-9b-chat-hf\",\n",
    "    max_seq_length = 4096,\n",
    "    dtype = None,\n",
    "    load_in_4bit = True,\n",
    ")\n",
    "\n",
    "\n",
    "model = FastLanguageModel.get_peft_model(\n",
    "    model,\n",
    "    r = 16,\n",
    "    lora_alpha = 32,\n",
    "    lora_dropout = 0,\n",
    ")\n",
    "\n",
    "dataset = load_dataset(\"json\", data_files={\"train\": \"openr1_math_cot_formatted.jsonl\"}, split=\"train\")\n",
    "\n",
    "def preprocess_function(examples):\n",
    "    \"\"\"\n",
    "    在训练前将prompt和completion拼接成一个完整的'text'字段。\n",
    "    \"\"\"\n",
    "    texts = [p + c for p, c in zip(examples['prompt'], examples['completion'])]\n",
    "    return {\"text\": texts}\n",
    "\n",
    "dataset = dataset.map(preprocess_function, batched=True)\n",
    "\n",
    "args = TrainingArguments(\n",
    "    output_dir = \"glm4-openr1-math\",\n",
    "    per_device_train_batch_size = 2,\n",
    "    gradient_accumulation_steps = 4,\n",
    "    learning_rate = 2e-5,\n",
    "    num_train_epochs = 2,\n",
    "    logging_steps = 50,\n",
    "    save_strategy = \"steps\",\n",
    "    save_steps = 1000,\n",
    "    optim = \"adamw_8bit\",\n",
    "    weight_decay = 0.01,\n",
    "    lr_scheduler_type = \"linear\",\n",
    "    seed = 3407,\n",
    "    fp16 = not torch.cuda.is_bf16_supported(),\n",
    "    bf16 = torch.cuda.is_bf16_supported(),\n",
    "    max_grad_norm = 1.0,\n",
    ")\n",
    "\n",
    "\n",
    "trainer = SFTTrainer(\n",
    "    model = model,\n",
    "    tokenizer = tokenizer,\n",
    "    train_dataset = dataset,\n",
    "    dataset_text_field = \"text\",\n",
    "    max_seq_length = 4096,\n",
    "    args = args,\n",
    ")\n",
    "\n",
    "trainer.train()"
   ]
  }
 ],
 "metadata": {
  "kernelspec": {
   "display_name": "Python 3 (ipykernel)",
   "language": "python",
   "name": "python3"
  },
  "language_info": {
   "codemirror_mode": {
    "name": "ipython",
    "version": 3
   },
   "file_extension": ".py",
   "mimetype": "text/x-python",
   "name": "python",
   "nbconvert_exporter": "python",
   "pygments_lexer": "ipython3",
   "version": "3.11.11"
  }
 },
 "nbformat": 4,
 "nbformat_minor": 4
}
